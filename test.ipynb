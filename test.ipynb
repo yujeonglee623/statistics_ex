{
 "cells": [
  {
   "cell_type": "markdown",
   "id": "ba14aa54-ffda-4b52-9b63-a07284972d8e",
   "metadata": {},
   "source": [
    "# 주피터 노트북 테스트"
   ]
  },
  {
   "cell_type": "code",
   "execution_count": 1,
   "id": "719a73ce-ff2f-4979-94c7-55e12cbd4e02",
   "metadata": {},
   "outputs": [
    {
     "name": "stdout",
     "output_type": "stream",
     "text": [
      "헬로\n"
     ]
    }
   ],
   "source": [
    "print(\"헬로\")"
   ]
  },
  {
   "cell_type": "code",
   "execution_count": null,
   "id": "ee4febe3-9f9b-4088-a729-4e88a110ee31",
   "metadata": {},
   "outputs": [],
   "source": []
  }
 ],
 "metadata": {
  "kernelspec": {
   "display_name": "eda_env",
   "language": "python",
   "name": "eda_env"
  },
  "language_info": {
   "codemirror_mode": {
    "name": "ipython",
    "version": 3
   },
   "file_extension": ".py",
   "mimetype": "text/x-python",
   "name": "python",
   "nbconvert_exporter": "python",
   "pygments_lexer": "ipython3",
   "version": "3.10.18"
  }
 },
 "nbformat": 4,
 "nbformat_minor": 5
}

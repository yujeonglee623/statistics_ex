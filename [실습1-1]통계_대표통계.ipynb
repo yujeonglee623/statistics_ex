{
 "cells": [
  {
   "cell_type": "markdown",
   "id": "ec66b978-047d-4ef6-ba3b-8a57c2d6b248",
   "metadata": {},
   "source": [
    "# 대표 통계량"
   ]
  },
  {
   "cell_type": "code",
   "execution_count": 3,
   "id": "605875f9-0c87-4c97-bfb1-78b25c8f4d51",
   "metadata": {},
   "outputs": [],
   "source": [
    "import numpy as np\n",
    "from scipy import stats as st\n",
    "import pandas as pd"
   ]
  },
  {
   "cell_type": "code",
   "execution_count": null,
   "id": "0a698582-9769-4f91-bb34-e16c4dd5735c",
   "metadata": {},
   "outputs": [],
   "source": []
  },
  {
   "cell_type": "markdown",
   "id": "d881873f-2034-4867-a23d-6823a0241898",
   "metadata": {},
   "source": [
    "## 산술평균 계산"
   ]
  },
  {
   "cell_type": "code",
   "execution_count": 10,
   "id": "4904a3f8-d3a0-41e3-8751-cbf8c380a2f6",
   "metadata": {},
   "outputs": [
    {
     "name": "stdout",
     "output_type": "stream",
     "text": [
      "64.0\n",
      "64.0\n"
     ]
    }
   ],
   "source": [
    "# 성적 평균 구하기\n",
    "x = [70, 60, 80, 60, 50]\n",
    "# sum(x)/len(x)\n",
    "print(np.sum(x)/len(x))\n",
    "# print(np.array(x).mean())\n",
    "print(pd.Series(x).mean())"
   ]
  },
  {
   "cell_type": "code",
   "execution_count": null,
   "id": "10eb9e9a-704a-41df-b916-a8dc94a0f657",
   "metadata": {},
   "outputs": [],
   "source": []
  },
  {
   "cell_type": "markdown",
   "id": "c8fb852e-d06a-4c61-9ac4-a9a9fd2a73bc",
   "metadata": {},
   "source": [
    "## 조화 평균 계산"
   ]
  },
  {
   "cell_type": "code",
   "execution_count": 22,
   "id": "c2d5ae6e-bfea-4ece-83cb-9f71fa2ca27b",
   "metadata": {},
   "outputs": [
    {
     "name": "stdout",
     "output_type": "stream",
     "text": [
      "40.0\n"
     ]
    }
   ],
   "source": [
    "# 상황: 두 생산 라인이 동일한 수의 제품(작업량)을 생산하지만, \n",
    "# 각 라인의 처리 속도가 다를 때 평균 처리 속도를 계산하기\n",
    "\n",
    "# 라인 A: 60개/시간, 라인 B: 30개/시간  → 동일 작업량(120개 제품 생산) 처리 시 평균 처리속도\n",
    "\n",
    "x=np.array([60,30])\n",
    "print(len(x)/np.sum(1/x))"
   ]
  },
  {
   "cell_type": "markdown",
   "id": "f51616ff-88a3-400d-bdb2-e1b535cfaf27",
   "metadata": {},
   "source": [
    "## 절사평균 계산"
   ]
  },
  {
   "cell_type": "code",
   "execution_count": 36,
   "id": "483a3503-174e-4869-bae1-c7b47b2a5ddd",
   "metadata": {},
   "outputs": [
    {
     "name": "stdout",
     "output_type": "stream",
     "text": [
      "3002631.91\n",
      "12873892.98\n"
     ]
    },
    {
     "data": {
      "text/plain": [
       "np.float64(2996800.0432802993)"
      ]
     },
     "execution_count": 36,
     "metadata": {},
     "output_type": "execute_result"
    }
   ],
   "source": [
    "# 월 평균이 3백만원이고 표준편차가 50만원인 정규 분포를 따르는 소득을 갖는 100명 생성\n",
    "income = np.random.normal(3000000, 500000, 100) \n",
    "print(round(np.mean(income), 2))\n",
    "\n",
    "# 월 소득이 1억원인 사람의 등장\n",
    "# 100명의 소득이 300만원에 가까운데, 한 명 때문에 대표값인 평균이 약 1300만원에 달함\n",
    "income=np.append(income,10**9)\n",
    "print(round(np.mean(income),2))\n",
    "\n",
    "# 절사평균으로 계산\n",
    "st.trim_mean(income,0.2) # [20%~80%]은 제외하고 계산"
   ]
  },
  {
   "cell_type": "markdown",
   "id": "8b7bb79d-decd-46c9-bd08-97a99532a7c9",
   "metadata": {},
   "source": [
    "## 최빈값 계산"
   ]
  },
  {
   "cell_type": "code",
   "execution_count": 39,
   "id": "726773a5-5b5b-4be7-8453-3a3a9b0a2706",
   "metadata": {},
   "outputs": [
    {
     "data": {
      "text/plain": [
       "1000"
      ]
     },
     "execution_count": 39,
     "metadata": {},
     "output_type": "execute_result"
    }
   ],
   "source": [
    "x=np.random.choice(['A','B','C'],1000) # A, B, C라는 요소로 데이터 1000개 만들기\n",
    "x[:5]\n",
    "len(x)"
   ]
  },
  {
   "cell_type": "code",
   "execution_count": 40,
   "id": "674a613e-71ab-4260-bf16-6a2771531888",
   "metadata": {},
   "outputs": [
    {
     "data": {
      "text/plain": [
       "array(['A', 'B', 'C'], dtype='<U1')"
      ]
     },
     "execution_count": 40,
     "metadata": {},
     "output_type": "execute_result"
    }
   ],
   "source": [
    "# 유니크한 값만 추출\n",
    "np.unique(x)"
   ]
  },
  {
   "cell_type": "code",
   "execution_count": 45,
   "id": "50418e4e-940f-4543-8b09-9f773911f704",
   "metadata": {},
   "outputs": [
    {
     "data": {
      "text/plain": [
       "'B'"
      ]
     },
     "execution_count": 45,
     "metadata": {},
     "output_type": "execute_result"
    }
   ],
   "source": [
    "# pandas collection 사용\n",
    "pd.Series(x).value_counts().index[2]"
   ]
  },
  {
   "cell_type": "code",
   "execution_count": 56,
   "id": "fc630af7-35f5-4ccc-a7cd-3e79ec18f775",
   "metadata": {},
   "outputs": [
    {
     "name": "stdout",
     "output_type": "stream",
     "text": [
      "최빈값: C, 최빈갯수: 345\n"
     ]
    }
   ],
   "source": [
    "# pythoon collection 사용\n",
    "from collections import Counter\n",
    "# print(dict(Counter(x)))\n",
    "counter=Counter(x)\n",
    "mode_value,mode_cnt=counter.most_common(1)[0]\n",
    "print(f\"최빈값: {mode_value}, 최빈갯수: {mode_cnt}\")"
   ]
  },
  {
   "cell_type": "markdown",
   "id": "9e95adf7-6b05-42a6-9082-8bb22e29b879",
   "metadata": {},
   "source": [
    "## 데이터의 대표값"
   ]
  },
  {
   "cell_type": "code",
   "execution_count": 78,
   "id": "b2eb2790-dbd9-4ed0-8294-74637ab3bf88",
   "metadata": {},
   "outputs": [],
   "source": [
    "# 평균, 중앙값, 최빈값 구하기\n"
   ]
  },
  {
   "cell_type": "code",
   "execution_count": 92,
   "id": "9f16cd31-258f-42ec-8d81-c30e4abdd7e4",
   "metadata": {},
   "outputs": [],
   "source": [
    "# 데이터 생성\n",
    "np.random.seed(2025) # 값을 랜덤하게 뽑지만 제한(누가 뽑하든 해당 번호를 입력하면 동일한 랜덤한 값이 나옴)\n",
    "data=np.random.randint(0,5,10)"
   ]
  },
  {
   "cell_type": "code",
   "execution_count": 98,
   "id": "4e297008-0648-47b4-b14b-ee59ee9b6ecd",
   "metadata": {},
   "outputs": [
    {
     "data": {
      "text/plain": [
       "array([0, 0, 0, 1, 2, 2, 3, 3, 4, 4], dtype=int32)"
      ]
     },
     "execution_count": 98,
     "metadata": {},
     "output_type": "execute_result"
    }
   ],
   "source": [
    "data.sort()\n",
    "data"
   ]
  },
  {
   "cell_type": "code",
   "execution_count": 99,
   "id": "2a12fc16-09c3-48d5-a621-9d94ad8a258e",
   "metadata": {},
   "outputs": [
    {
     "data": {
      "text/plain": [
       "np.float64(2.0)"
      ]
     },
     "execution_count": 99,
     "metadata": {},
     "output_type": "execute_result"
    }
   ],
   "source": [
    "mean_val=np.mean(data)\n",
    "median_val=np.median(data)\n",
    "median_val"
   ]
  },
  {
   "cell_type": "code",
   "execution_count": 101,
   "id": "7399fa7c-bec1-4ced-b5f1-1df29c236515",
   "metadata": {},
   "outputs": [
    {
     "data": {
      "text/plain": [
       "ModeResult(mode=np.int32(0), count=np.int64(3))"
      ]
     },
     "execution_count": 101,
     "metadata": {},
     "output_type": "execute_result"
    }
   ],
   "source": [
    "mode_val=st.mode(data)\n",
    "mode_val"
   ]
  },
  {
   "cell_type": "code",
   "execution_count": 102,
   "id": "5fb2c3c5-6736-4f00-b235-398ab8502bf5",
   "metadata": {},
   "outputs": [
    {
     "data": {
      "text/plain": [
       "'최빈값: 0, 최빈 갯수: 3'"
      ]
     },
     "execution_count": 102,
     "metadata": {},
     "output_type": "execute_result"
    }
   ],
   "source": [
    "f\"최빈값: {mode_val.mode}, 최빈 갯수: {mode_val.count}\""
   ]
  },
  {
   "cell_type": "code",
   "execution_count": null,
   "id": "0a48c483-e7f9-462c-a8e4-950b28cc6dca",
   "metadata": {},
   "outputs": [],
   "source": []
  }
 ],
 "metadata": {
  "kernelspec": {
   "display_name": "eda_env",
   "language": "python",
   "name": "eda_env"
  },
  "language_info": {
   "codemirror_mode": {
    "name": "ipython",
    "version": 3
   },
   "file_extension": ".py",
   "mimetype": "text/x-python",
   "name": "python",
   "nbconvert_exporter": "python",
   "pygments_lexer": "ipython3",
   "version": "3.10.18"
  }
 },
 "nbformat": 4,
 "nbformat_minor": 5
}

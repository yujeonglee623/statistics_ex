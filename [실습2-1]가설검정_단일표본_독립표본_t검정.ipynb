{
 "cells": [
  {
   "cell_type": "markdown",
   "id": "e902206c-a6b8-40ac-96a2-531382169ddb",
   "metadata": {},
   "source": [
    "# 단일 표본 t검정"
   ]
  },
  {
   "cell_type": "markdown",
   "id": "956ac421-29a8-44e1-86ae-71053f0f8b3b",
   "metadata": {},
   "source": [
    "[문제]\n",
    "- 성인 여성 30명의 키 데이터\n",
    "- 평균, 표준편차 계산\n",
    "- ks-정규성 검정 실행\n",
    "- 임의의 어떤값 163은 평균 값에 근사할까?"
   ]
  },
  {
   "cell_type": "code",
   "execution_count": 1,
   "id": "7335773a-073a-4007-8548-7c807ecf7ae7",
   "metadata": {},
   "outputs": [
    {
     "name": "stdout",
     "output_type": "stream",
     "text": [
      "[150.27, 142.94, 160.99, 157.48, 153.46, 137.5, 154.94, 159.51, 171.87, 143.69, 153.65, 160.25, 153.07, 154.42, 141.21, 154.17, 162.56, 164.44, 172.36, 141.51, 169.4, 167.97, 170.26, 157.8, 167.61]\n",
      "25\n"
     ]
    }
   ],
   "source": [
    "# data 로딩\n",
    "with open(\"./datas2/성인여성_키_데이터.txt\", \"r\") as f:\n",
    "    data = f.read().split(\"\\n\")\n",
    "    # print(data)\n",
    "    data = map(float, data) # 리스트 요소가 문자열 -> float\n",
    "    data = list(data)\n",
    "    print(data) # map 함수의 결과를 List로 형변환 출력\n",
    "    print(len(data))"
   ]
  },
  {
   "cell_type": "markdown",
   "id": "fa4b3a08-8d28-404c-b84c-d2a9eb740c39",
   "metadata": {},
   "source": [
    "## 가설 설정\n",
    "- H0: 표본 데이터의 평균은 163과 같다.\n",
    "- H1: 표본 데이터의 평균은 163과 다르다."
   ]
  },
  {
   "cell_type": "code",
   "execution_count": 2,
   "id": "3064fdf5-10f5-4c3a-a8df-59f7cd7e0264",
   "metadata": {},
   "outputs": [
    {
     "data": {
      "text/plain": [
       "(np.float64(156.9332), np.float64(9.974187774450611))"
      ]
     },
     "execution_count": 2,
     "metadata": {},
     "output_type": "execute_result"
    }
   ],
   "source": [
    "# 데이터의 평균과 표준편차 구하기\n",
    "\n",
    "import numpy as np\n",
    "# 평균\n",
    "mean_value = np.mean(data)\n",
    "# 표준편차\n",
    "std_dev = np.std(data, ddof=0) # 모집단의 표준 편차\n",
    "mean_value, std_dev"
   ]
  },
  {
   "cell_type": "markdown",
   "id": "bbaac0d3-7234-4cda-bf46-de83dc59ebf9",
   "metadata": {},
   "source": [
    "## 정규성 검정 (ks-test)"
   ]
  },
  {
   "cell_type": "code",
   "execution_count": 7,
   "id": "322497da-e313-47a1-8312-68a61dcb3b2f",
   "metadata": {},
   "outputs": [],
   "source": [
    "from scipy.stats import * # stats 모듈의 모든 내용을 로딩\n",
    "# from scipy import stats\n",
    "import numpy as np"
   ]
  },
  {
   "cell_type": "code",
   "execution_count": 8,
   "id": "de1ca70a-0417-45dd-ba61-9973aab82a7e",
   "metadata": {},
   "outputs": [
    {
     "data": {
      "text/plain": [
       "(np.float64(0.10925974986314058), np.float64(0.8950958424230889))"
      ]
     },
     "execution_count": 8,
     "metadata": {},
     "output_type": "execute_result"
    }
   ],
   "source": [
    "# 정규성 검정 함수\n",
    "ks_stats, p_value = kstest(data, 'norm', args=(mean_value, std_dev))\n",
    "ks_stats, p_value"
   ]
  },
  {
   "cell_type": "markdown",
   "id": "ce7ad7be-9500-4e96-bf7a-b1e17f1fb4ec",
   "metadata": {},
   "source": [
    "# 단일표본 t검정 하기"
   ]
  },
  {
   "cell_type": "code",
   "execution_count": 9,
   "id": "7b6a637a-c756-4628-890c-70593a64a09e",
   "metadata": {},
   "outputs": [
    {
     "data": {
      "text/plain": [
       "TtestResult(statistic=np.float64(-2.979804412662668), pvalue=np.float64(0.006510445335847954), df=np.int64(24))"
      ]
     },
     "execution_count": 9,
     "metadata": {},
     "output_type": "execute_result"
    }
   ],
   "source": [
    "ttest_1samp(data, 163)"
   ]
  },
  {
   "cell_type": "markdown",
   "id": "9e271aff-5e6a-431b-ab73-209656e5951b",
   "metadata": {},
   "source": [
    "# 독립 표본 t검정\n",
    "- 두 그룹 A, B의 차이를 검증할 때 사용하는 검증방법"
   ]
  },
  {
   "cell_type": "code",
   "execution_count": 10,
   "id": "1a60a5f0-e6cc-4b9e-83b5-9d7049516ba8",
   "metadata": {},
   "outputs": [],
   "source": [
    "# 문제: A, B반의 점수 차이가 있는지 검증하기\n",
    "# [가설 설정]\n",
    "# H0 : A반과 B반의 평균은 같다.\n",
    "# H1 : A반과 B반의 평균은 다르다.\n"
   ]
  },
  {
   "cell_type": "code",
   "execution_count": 11,
   "id": "e545124b-8116-4b16-a7a2-b9ceedcc9838",
   "metadata": {},
   "outputs": [],
   "source": [
    "import pandas as pd\n",
    "import numpy as np"
   ]
  },
  {
   "cell_type": "code",
   "execution_count": 18,
   "id": "290d33ed-54db-4f8e-a1be-d597dd00bae1",
   "metadata": {},
   "outputs": [
    {
     "data": {
      "text/html": [
       "<div>\n",
       "<style scoped>\n",
       "    .dataframe tbody tr th:only-of-type {\n",
       "        vertical-align: middle;\n",
       "    }\n",
       "\n",
       "    .dataframe tbody tr th {\n",
       "        vertical-align: top;\n",
       "    }\n",
       "\n",
       "    .dataframe thead th {\n",
       "        text-align: right;\n",
       "    }\n",
       "</style>\n",
       "<table border=\"1\" class=\"dataframe\">\n",
       "  <thead>\n",
       "    <tr style=\"text-align: right;\">\n",
       "      <th></th>\n",
       "      <th>반</th>\n",
       "      <th>점수</th>\n",
       "    </tr>\n",
       "  </thead>\n",
       "  <tbody>\n",
       "    <tr>\n",
       "      <th>25</th>\n",
       "      <td>B</td>\n",
       "      <td>77</td>\n",
       "    </tr>\n",
       "    <tr>\n",
       "      <th>26</th>\n",
       "      <td>B</td>\n",
       "      <td>75</td>\n",
       "    </tr>\n",
       "    <tr>\n",
       "      <th>27</th>\n",
       "      <td>B</td>\n",
       "      <td>65</td>\n",
       "    </tr>\n",
       "    <tr>\n",
       "      <th>28</th>\n",
       "      <td>B</td>\n",
       "      <td>61</td>\n",
       "    </tr>\n",
       "    <tr>\n",
       "      <th>29</th>\n",
       "      <td>B</td>\n",
       "      <td>55</td>\n",
       "    </tr>\n",
       "  </tbody>\n",
       "</table>\n",
       "</div>"
      ],
      "text/plain": [
       "    반  점수\n",
       "25  B  77\n",
       "26  B  75\n",
       "27  B  65\n",
       "28  B  61\n",
       "29  B  55"
      ]
     },
     "execution_count": 18,
     "metadata": {},
     "output_type": "execute_result"
    }
   ],
   "source": [
    "df1 = pd.read_csv(\"./datas2/반별_점수_type1.csv\", encoding = \"euc-kr\")\n",
    "df1.tail()"
   ]
  },
  {
   "cell_type": "code",
   "execution_count": 20,
   "id": "ad0afa06-87ca-444f-8252-c3035a82261f",
   "metadata": {},
   "outputs": [
    {
     "data": {
      "text/plain": [
       "반\n",
       "A    20\n",
       "B    10\n",
       "Name: count, dtype: int64"
      ]
     },
     "execution_count": 20,
     "metadata": {},
     "output_type": "execute_result"
    }
   ],
   "source": [
    "# 데이터 프레임에서 반 column의 유니크한 값의 갯수 확인\n",
    "df1['반'].value_counts()"
   ]
  },
  {
   "cell_type": "markdown",
   "id": "08ab018f-1240-47cc-b33d-38616c4462ed",
   "metadata": {},
   "source": [
    "### A반, B반 데이터 분리하기"
   ]
  },
  {
   "cell_type": "code",
   "execution_count": 26,
   "id": "b91857d3-37e7-43c1-ac6c-9d5c3be74839",
   "metadata": {},
   "outputs": [
    {
     "data": {
      "text/plain": [
       "20"
      ]
     },
     "execution_count": 26,
     "metadata": {},
     "output_type": "execute_result"
    }
   ],
   "source": [
    "# A반의 점수만 추출\n",
    "groupA = df1['점수'].loc[df1['반'] == 'A'].values\n",
    "len(groupA)"
   ]
  },
  {
   "cell_type": "code",
   "execution_count": 27,
   "id": "d1a81e48-6be5-4cb5-a94d-989c5aa05bee",
   "metadata": {},
   "outputs": [
    {
     "data": {
      "text/plain": [
       "10"
      ]
     },
     "execution_count": 27,
     "metadata": {},
     "output_type": "execute_result"
    }
   ],
   "source": [
    "# B반의 점수만 추출\n",
    "groupB = df1['점수'].loc[df1['반'] == 'B'].values\n",
    "len(groupB)"
   ]
  },
  {
   "cell_type": "code",
   "execution_count": 30,
   "id": "271767c6-0f9c-424c-8ae3-53a3f594f253",
   "metadata": {},
   "outputs": [
    {
     "data": {
      "text/plain": [
       "(np.float64(70.55), np.float64(5.67983506061483))"
      ]
     },
     "execution_count": 30,
     "metadata": {},
     "output_type": "execute_result"
    }
   ],
   "source": [
    "meanA = np.mean(groupA)\n",
    "stdA = np.std(groupA, ddof=1)\n",
    "meanA, stdA"
   ]
  },
  {
   "cell_type": "code",
   "execution_count": 33,
   "id": "0c9bf9a7-a07c-43e7-bbdf-97bff4a87ae8",
   "metadata": {},
   "outputs": [
    {
     "name": "stdout",
     "output_type": "stream",
     "text": [
      "A반 평균: 70.55, 표준 편차: 5.68\n",
      "B반 평균: 64.10, 표준 편차: 8.28\n"
     ]
    }
   ],
   "source": [
    "meanB = np.mean(groupB)\n",
    "stdB = np.std(groupB, ddof=1)\n",
    "meanB, stdB\n",
    "\n",
    "print(f\"A반 평균: {meanA:.2f}, 표준 편차: {stdA:.2f}\")\n",
    "print(f\"B반 평균: {meanB:.2f}, 표준 편차: {stdB:.2f}\")"
   ]
  },
  {
   "cell_type": "markdown",
   "id": "130b0e34-f573-45a9-ab8b-70ae8d806249",
   "metadata": {},
   "source": [
    "### 정규성 검정"
   ]
  },
  {
   "cell_type": "code",
   "execution_count": 54,
   "id": "08e8f200-32ed-4bd4-aeb5-df41969e910e",
   "metadata": {},
   "outputs": [
    {
     "name": "stdout",
     "output_type": "stream",
     "text": [
      "KstestResult(statistic=np.float64(0.13310674849448567), pvalue=np.float64(0.8254564220619713), statistic_location=np.int64(73), statistic_sign=np.int8(1))\n",
      "KstestResult(statistic=np.float64(0.15881009358601705), pvalue=np.float64(0.9295432555006241), statistic_location=np.int64(73), statistic_sign=np.int8(-1))\n"
     ]
    }
   ],
   "source": [
    "print(kstest(groupA, 'norm', args = (np.mean(groupA), np.std(groupA, ddof=1))))\n",
    "print(kstest(groupB, 'norm', args = (np.mean(groupB), np.std(groupB, ddof=1))))"
   ]
  },
  {
   "cell_type": "code",
   "execution_count": 48,
   "id": "f383c97c-0131-4012-b5dc-8ad827e99788",
   "metadata": {},
   "outputs": [
    {
     "name": "stdout",
     "output_type": "stream",
     "text": [
      "groupA의 stat: 0.9696965803625964, p: 0.748452591551455\n",
      "groupB의 stat: 0.8888437044166572, p: 0.16456075946955223\n"
     ]
    }
   ],
   "source": [
    "stat, p = shapiro(groupA)\n",
    "print(f\"groupA의 stat: {stat}, p: {p}\")\n",
    "stat, p = shapiro(groupB)\n",
    "print(f\"groupB의 stat: {stat}, p: {p}\")"
   ]
  },
  {
   "cell_type": "markdown",
   "id": "3c2b510d-a81a-4845-8ca7-dcbdc02edf79",
   "metadata": {},
   "source": [
    "### 등분산 검정"
   ]
  },
  {
   "cell_type": "code",
   "execution_count": 49,
   "id": "afd939aa-ccec-456a-a29a-867101fcec08",
   "metadata": {},
   "outputs": [
    {
     "data": {
      "text/plain": [
       "LeveneResult(statistic=np.float64(2.033067087400979), pvalue=np.float64(0.16496408622210104))"
      ]
     },
     "execution_count": 49,
     "metadata": {},
     "output_type": "execute_result"
    }
   ],
   "source": [
    "levene(groupA, groupB)"
   ]
  },
  {
   "cell_type": "code",
   "execution_count": 53,
   "id": "6b928e99-8ead-42c9-8ec8-fb45d6fb8e62",
   "metadata": {},
   "outputs": [
    {
     "data": {
      "text/plain": [
       "np.float64(32.26052631578948)"
      ]
     },
     "execution_count": 53,
     "metadata": {},
     "output_type": "execute_result"
    }
   ],
   "source": [
    "np.var(groupA, ddof=1)"
   ]
  },
  {
   "cell_type": "code",
   "execution_count": 52,
   "id": "8f06bddb-316c-4b9c-820f-5b94986daf91",
   "metadata": {},
   "outputs": [
    {
     "data": {
      "text/plain": [
       "np.float64(68.54444444444445)"
      ]
     },
     "execution_count": 52,
     "metadata": {},
     "output_type": "execute_result"
    }
   ],
   "source": [
    "np.var(groupB, ddof=1)"
   ]
  },
  {
   "cell_type": "code",
   "execution_count": null,
   "id": "927302ab-64ad-41ac-b663-7b7a4f4b2fae",
   "metadata": {},
   "outputs": [],
   "source": []
  }
 ],
 "metadata": {
  "kernelspec": {
   "display_name": "eda_env",
   "language": "python",
   "name": "eda_env"
  },
  "language_info": {
   "codemirror_mode": {
    "name": "ipython",
    "version": 3
   },
   "file_extension": ".py",
   "mimetype": "text/x-python",
   "name": "python",
   "nbconvert_exporter": "python",
   "pygments_lexer": "ipython3",
   "version": "3.10.18"
  }
 },
 "nbformat": 4,
 "nbformat_minor": 5
}

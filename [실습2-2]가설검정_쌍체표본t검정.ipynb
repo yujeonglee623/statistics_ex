{
 "cells": [
  {
   "cell_type": "markdown",
   "id": "62821584-3163-46c4-a44b-345b30481252",
   "metadata": {},
   "source": [
    "# 쌍체표본 t-검정"
   ]
  },
  {
   "cell_type": "code",
   "execution_count": 1,
   "id": "5fded68e-d11d-44c8-a8f6-5197638c0b2f",
   "metadata": {},
   "outputs": [],
   "source": [
    "import pandas as pd"
   ]
  },
  {
   "cell_type": "code",
   "execution_count": 4,
   "id": "1c6f6440-653a-4825-8657-17c7a2d5e55f",
   "metadata": {},
   "outputs": [
    {
     "data": {
      "text/html": [
       "<div>\n",
       "<style scoped>\n",
       "    .dataframe tbody tr th:only-of-type {\n",
       "        vertical-align: middle;\n",
       "    }\n",
       "\n",
       "    .dataframe tbody tr th {\n",
       "        vertical-align: top;\n",
       "    }\n",
       "\n",
       "    .dataframe thead th {\n",
       "        text-align: right;\n",
       "    }\n",
       "</style>\n",
       "<table border=\"1\" class=\"dataframe\">\n",
       "  <thead>\n",
       "    <tr style=\"text-align: right;\">\n",
       "      <th></th>\n",
       "      <th>다이어트전(kg)</th>\n",
       "      <th>다이어트후(kg)</th>\n",
       "    </tr>\n",
       "  </thead>\n",
       "  <tbody>\n",
       "    <tr>\n",
       "      <th>0</th>\n",
       "      <td>87.41</td>\n",
       "      <td>88.30</td>\n",
       "    </tr>\n",
       "    <tr>\n",
       "      <th>1</th>\n",
       "      <td>81.05</td>\n",
       "      <td>76.21</td>\n",
       "    </tr>\n",
       "    <tr>\n",
       "      <th>2</th>\n",
       "      <td>60.72</td>\n",
       "      <td>53.34</td>\n",
       "    </tr>\n",
       "    <tr>\n",
       "      <th>3</th>\n",
       "      <td>81.02</td>\n",
       "      <td>78.21</td>\n",
       "    </tr>\n",
       "    <tr>\n",
       "      <th>4</th>\n",
       "      <td>75.75</td>\n",
       "      <td>76.74</td>\n",
       "    </tr>\n",
       "  </tbody>\n",
       "</table>\n",
       "</div>"
      ],
      "text/plain": [
       "   다이어트전(kg)  다이어트후(kg)\n",
       "0      87.41      88.30\n",
       "1      81.05      76.21\n",
       "2      60.72      53.34\n",
       "3      81.02      78.21\n",
       "4      75.75      76.74"
      ]
     },
     "execution_count": 4,
     "metadata": {},
     "output_type": "execute_result"
    }
   ],
   "source": [
    "data_file = \"다이어트약_효과검증.csv\"\n",
    "# 데이터 인코딩 방식 : 기본 : utf-8 (생략 가능)\n",
    "df = pd.read_csv(f\"datas2/{data_file}\")\n",
    "df.head()"
   ]
  },
  {
   "cell_type": "code",
   "execution_count": 5,
   "id": "1363ef34-4ff0-49fb-b59f-6418b005ee8f",
   "metadata": {},
   "outputs": [
    {
     "data": {
      "text/plain": [
       "Index(['다이어트전(kg)', '다이어트후(kg)'], dtype='object')"
      ]
     },
     "execution_count": 5,
     "metadata": {},
     "output_type": "execute_result"
    }
   ],
   "source": [
    "df.columns"
   ]
  },
  {
   "cell_type": "code",
   "execution_count": null,
   "id": "930f8a9f-6dde-40c5-b5d0-490757ff6350",
   "metadata": {},
   "outputs": [],
   "source": []
  },
  {
   "cell_type": "markdown",
   "id": "6d4e5efd-3ff2-4515-87b2-431f62fbd6a6",
   "metadata": {},
   "source": [
    "## 데이터 전처리"
   ]
  },
  {
   "cell_type": "code",
   "execution_count": 8,
   "id": "da7988d6-2a52-4921-81bc-83219d7677b0",
   "metadata": {},
   "outputs": [
    {
     "data": {
      "text/plain": [
       "0    87.41\n",
       "1    81.05\n",
       "2    60.72\n",
       "3    81.02\n",
       "4    75.75\n",
       "Name: 다이어트전(kg), dtype: float64"
      ]
     },
     "execution_count": 8,
     "metadata": {},
     "output_type": "execute_result"
    }
   ],
   "source": [
    "# 다이어트전(kg)\n",
    "before = df['다이어트전(kg)']\n",
    "before.head()"
   ]
  },
  {
   "cell_type": "code",
   "execution_count": 9,
   "id": "c5edccfd-d390-414a-aea5-26764b217bfa",
   "metadata": {},
   "outputs": [
    {
     "data": {
      "text/plain": [
       "0    88.30\n",
       "1    76.21\n",
       "2    53.34\n",
       "3    78.21\n",
       "4    76.74\n",
       "Name: 다이어트후(kg), dtype: float64"
      ]
     },
     "execution_count": 9,
     "metadata": {},
     "output_type": "execute_result"
    }
   ],
   "source": [
    "# 다이어트후(kg)\n",
    "after = df['다이어트후(kg)']\n",
    "after.head()"
   ]
  },
  {
   "cell_type": "code",
   "execution_count": null,
   "id": "cd03f1b1-c621-46d0-9daa-09dfe4c5e355",
   "metadata": {},
   "outputs": [],
   "source": []
  },
  {
   "cell_type": "markdown",
   "id": "7f2d4a3f-e5cb-4448-a4b4-ac255c1b7962",
   "metadata": {},
   "source": [
    "## 정규성 검정\n",
    "- before와 after의 차이(d)가 정규분포를 따르는지 판단하기"
   ]
  },
  {
   "cell_type": "code",
   "execution_count": 11,
   "id": "40e2781e-8743-47f3-945d-6a63f204da7f",
   "metadata": {},
   "outputs": [],
   "source": [
    "from scipy import stats as st"
   ]
  },
  {
   "cell_type": "code",
   "execution_count": 12,
   "id": "64472aa4-ab60-45df-9189-c8a9c927bbd0",
   "metadata": {},
   "outputs": [
    {
     "data": {
      "text/plain": [
       "ShapiroResult(statistic=np.float64(0.9724073061486513), pvalue=np.float64(0.2892093416018284))"
      ]
     },
     "execution_count": 12,
     "metadata": {},
     "output_type": "execute_result"
    }
   ],
   "source": [
    "# 유의사항 : 실험 후 값 - 실험 전 값          \n",
    "st.shapiro(after-before)"
   ]
  },
  {
   "cell_type": "markdown",
   "id": "7196a218-762b-4813-84f0-545b12c1dad7",
   "metadata": {},
   "source": [
    "[해석]  \n",
    "p-value > 0.05 이므로, 정규분포를 따른다는것을 알 수 있음."
   ]
  },
  {
   "cell_type": "markdown",
   "id": "853b3b36-7651-41ea-90cf-1263541c20bf",
   "metadata": {},
   "source": [
    "## 쌍체 표본 t-검정 수행하기"
   ]
  },
  {
   "cell_type": "code",
   "execution_count": 13,
   "id": "457a7527-960c-424f-8fbf-af725015e66e",
   "metadata": {},
   "outputs": [
    {
     "data": {
      "text/plain": [
       "TtestResult(statistic=np.float64(9.70596986565785), pvalue=np.float64(5.370404098342324e-13), df=np.int64(49))"
      ]
     },
     "execution_count": 13,
     "metadata": {},
     "output_type": "execute_result"
    }
   ],
   "source": [
    "st.ttest_rel(before, after)"
   ]
  },
  {
   "cell_type": "code",
   "execution_count": null,
   "id": "aad406d3-e7cc-408f-9f24-74bfdb2b05ed",
   "metadata": {},
   "outputs": [],
   "source": []
  }
 ],
 "metadata": {
  "kernelspec": {
   "display_name": "eda_env",
   "language": "python",
   "name": "eda_env"
  },
  "language_info": {
   "codemirror_mode": {
    "name": "ipython",
    "version": 3
   },
   "file_extension": ".py",
   "mimetype": "text/x-python",
   "name": "python",
   "nbconvert_exporter": "python",
   "pygments_lexer": "ipython3",
   "version": "3.10.18"
  }
 },
 "nbformat": 4,
 "nbformat_minor": 5
}
